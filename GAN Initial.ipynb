{
 "cells": [
  {
   "cell_type": "code",
   "execution_count": 1,
   "metadata": {},
   "outputs": [],
   "source": [
    "import torch\n",
    "from torch import nn\n",
    "\n",
    "import math\n",
    "import matplotlib.pyplot as plt"
   ]
  },
  {
   "cell_type": "code",
   "execution_count": 2,
   "metadata": {},
   "outputs": [
    {
     "data": {
      "text/plain": [
       "<torch._C.Generator at 0x25056fe1230>"
      ]
     },
     "execution_count": 2,
     "metadata": {},
     "output_type": "execute_result"
    }
   ],
   "source": [
    "torch.manual_seed(111)    # to allow replication on different machines"
   ]
  },
  {
   "cell_type": "code",
   "execution_count": 3,
   "metadata": {},
   "outputs": [],
   "source": [
    "# Prepare the training data\n",
    "# (x1, x2) - x2 = sine(x1), x1 in range [0, 2pi]\n",
    "train_data_length = 1024                                                   # set of 1024 pairs\n",
    "train_data = torch.zeros((train_data_length, 2))                           # initialize tensor with dimensions 1024 rows x 2 columns, filled with zeros\n",
    "train_data[:, 0] = 2 * math.pi * torch.rand(train_data_length)             # store random values in range [0, 2pi]\n",
    "train_data[:, 1] = torch.sin(train_data[:, 0])                             # calculate sine of column 1\n",
    "train_labels = torch.zeros(train_data_length)                              # labels required by default by PyTorch's data loader\n",
    "train_set = [                                                              # prepare tuples for PyTorch data loader\n",
    "    (train_data[i], train_labels[i]) for i in range(train_data_length)\n",
    "]"
   ]
  },
  {
   "cell_type": "code",
   "execution_count": 4,
   "metadata": {},
   "outputs": [
    {
     "data": {
      "text/plain": [
       "[<matplotlib.lines.Line2D at 0x2505bc35460>]"
      ]
     },
     "execution_count": 4,
     "metadata": {},
     "output_type": "execute_result"
    },
    {
     "data": {
      "image/png": "[encoded data removed]",
      "text/plain": [
       "<Figure size 432x288 with 1 Axes>"
      ]
     },
     "metadata": {
      "needs_background": "light"
     },
     "output_type": "display_data"
    }
   ],
   "source": [
    "plt.plot(train_data[:, 0], train_data[:, 1], \".\")     # plot training data"
   ]
  },
  {
   "cell_type": "code",
   "execution_count": 5,
   "metadata": {},
   "outputs": [],
   "source": [
    "batch_size = 32\n",
    "train_loader = torch.utils.data.DataLoader(              # shuffles train_set and returns batches of 32 samples to be used in neural network\n",
    "    train_set, batch_size=batch_size, shuffle=True\n",
    ")"
   ]
  },
  {
   "cell_type": "code",
   "execution_count": 6,
   "metadata": {},
   "outputs": [],
   "source": [
    "class Discriminator(nn.Module):\n",
    "    def __init__(self):\n",
    "        super().__init__()\n",
    "        self.model = nn.Sequential(         # MLP neural network defined sequentially\n",
    "            nn.Linear(2, 256),              # two-dimensional input with 256 neurons in first hidden layer\n",
    "            nn.ReLU(),                      # rectifier for activation function\n",
    "            nn.Dropout(0.3),                # dropouts used to avoid overfitting\n",
    "            nn.Linear(256, 128),            # second hidden layer - 128 neurons\n",
    "            nn.ReLU(),\n",
    "            nn.Dropout(0.3),\n",
    "            nn.Linear(128, 64),             # third hidden layer - 64 neurons\n",
    "            nn.ReLU(),\n",
    "            nn.Dropout(0.3),\n",
    "            nn.Linear(64, 1),               # single output\n",
    "            nn.Sigmoid(),                   # sigmoid activation function for output to represent a probability\n",
    "        )\n",
    "    \n",
    "    def forward(self, x):\n",
    "        output = self.model(x)              # output obtained without additional processing\n",
    "        return output"
   ]
  },
  {
   "cell_type": "code",
   "execution_count": 9,
   "metadata": {},
   "outputs": [],
   "source": [
    "discriminator = Discriminator()             # instance of neural network that is ready to be trained"
   ]
  },
  {
   "cell_type": "code",
   "execution_count": 10,
   "metadata": {},
   "outputs": [],
   "source": [
    "# Implement the Generator\n",
    "# two-dimensional input, random points (z1, z2) from latent space\n",
    "# two-dimensional output (xg1, xg2) resembling those from training data\n",
    "class Generator(nn.Module):\n",
    "    def __init__(self):\n",
    "        super().__init__()\n",
    "        self.model = nn.Sequential(\n",
    "            nn.Linear(2, 16),               # two hidden layers with 16 and 32 neurons, respectively\n",
    "            nn.ReLU(),                      # rectifier activation\n",
    "            nn.Linear(16, 32),\n",
    "            nn.ReLU(),\n",
    "            nn.Linear(32, 2),               # linear activaton layer with 2 neurons in output (xg1, xg2)\n",
    "        )\n",
    "    \n",
    "    def forward(self, x):\n",
    "        output = self.model(x)\n",
    "        return output"
   ]
  },
  {
   "cell_type": "code",
   "execution_count": 11,
   "metadata": {},
   "outputs": [],
   "source": [
    "generator = Generator()"
   ]
  },
  {
   "cell_type": "code",
   "execution_count": 12,
   "metadata": {},
   "outputs": [],
   "source": [
    "# Train the Models\n",
    "lr = 0.001                       # learning rate to adapt network weights\n",
    "num_epochs = 300                 # repetitions of training\n",
    "loss_function = nn.BCELoss()     # Binary Cross-Entropy for loss function - suitable because it considers a binary classification task\n",
    "                                 # and discriminator provides binary observable output"
   ]
  },
  {
   "cell_type": "code",
   "execution_count": 13,
   "metadata": {},
   "outputs": [],
   "source": [
    "optimizer_discriminator = torch.optim.Adam(discriminator.parameters(), lr=lr)   # Adaptive Moment Estimation to train both neural networks\n",
    "optimizer_generator = torch.optim.Adam(generator.parameters(), lr=lr)"
   ]
  },
  {
   "cell_type": "code",
   "execution_count": 15,
   "metadata": {},
   "outputs": [
    {
     "name": "stdout",
     "output_type": "stream",
     "text": [
      "Epoch: 0 Loss D.: 0.16663309931755066\n",
      "Epoch: 0 Loss G.: 2.0519187450408936\n",
      "Epoch: 10 Loss D.: 0.6624932289123535\n",
      "Epoch: 10 Loss G.: 0.8620059490203857\n",
      "Epoch: 20 Loss D.: 0.6294434070587158\n",
      "Epoch: 20 Loss G.: 0.8032889366149902\n",
      "Epoch: 30 Loss D.: 0.5289642214775085\n",
      "Epoch: 30 Loss G.: 1.1769884824752808\n",
      "Epoch: 40 Loss D.: 0.5814887881278992\n",
      "Epoch: 40 Loss G.: 0.8989247679710388\n",
      "Epoch: 50 Loss D.: 0.6534417271614075\n",
      "Epoch: 50 Loss G.: 0.8726067543029785\n",
      "Epoch: 60 Loss D.: 0.6189590692520142\n",
      "Epoch: 60 Loss G.: 0.9972568154335022\n",
      "Epoch: 70 Loss D.: 0.693320631980896\n",
      "Epoch: 70 Loss G.: 0.7426339387893677\n",
      "Epoch: 80 Loss D.: 0.6420703530311584\n",
      "Epoch: 80 Loss G.: 0.7834144234657288\n",
      "Epoch: 90 Loss D.: 0.6438316702842712\n",
      "Epoch: 90 Loss G.: 0.7330536842346191\n",
      "Epoch: 100 Loss D.: 0.7094649076461792\n",
      "Epoch: 100 Loss G.: 0.6829090118408203\n",
      "Epoch: 110 Loss D.: 0.7072309851646423\n",
      "Epoch: 110 Loss G.: 0.7929078340530396\n",
      "Epoch: 120 Loss D.: 0.6215538382530212\n",
      "Epoch: 120 Loss G.: 0.7684662938117981\n",
      "Epoch: 130 Loss D.: 0.6312568783760071\n",
      "Epoch: 130 Loss G.: 0.8050488829612732\n",
      "Epoch: 140 Loss D.: 0.6504431366920471\n",
      "Epoch: 140 Loss G.: 0.8400120735168457\n",
      "Epoch: 150 Loss D.: 0.7359623908996582\n",
      "Epoch: 150 Loss G.: 0.6818757653236389\n",
      "Epoch: 160 Loss D.: 0.6823816895484924\n",
      "Epoch: 160 Loss G.: 0.7319836616516113\n",
      "Epoch: 170 Loss D.: 0.6371263265609741\n",
      "Epoch: 170 Loss G.: 0.8552563190460205\n",
      "Epoch: 180 Loss D.: 0.6692853569984436\n",
      "Epoch: 180 Loss G.: 0.8306370973587036\n",
      "Epoch: 190 Loss D.: 0.6889887452125549\n",
      "Epoch: 190 Loss G.: 0.8943081498146057\n",
      "Epoch: 200 Loss D.: 0.6651124954223633\n",
      "Epoch: 200 Loss G.: 0.7748575806617737\n",
      "Epoch: 210 Loss D.: 0.6073339581489563\n",
      "Epoch: 210 Loss G.: 1.1081509590148926\n",
      "Epoch: 220 Loss D.: 0.6745882630348206\n",
      "Epoch: 220 Loss G.: 0.8460503220558167\n",
      "Epoch: 230 Loss D.: 0.6204743385314941\n",
      "Epoch: 230 Loss G.: 1.0353482961654663\n",
      "Epoch: 240 Loss D.: 0.6514342427253723\n",
      "Epoch: 240 Loss G.: 0.8324286341667175\n",
      "Epoch: 250 Loss D.: 0.6745577454566956\n",
      "Epoch: 250 Loss G.: 0.8357117176055908\n",
      "Epoch: 260 Loss D.: 0.6804512739181519\n",
      "Epoch: 260 Loss G.: 0.6539102792739868\n",
      "Epoch: 270 Loss D.: 0.7234910130500793\n",
      "Epoch: 270 Loss G.: 0.7158408761024475\n",
      "Epoch: 280 Loss D.: 0.7087030410766602\n",
      "Epoch: 280 Loss G.: 0.7999062538146973\n",
      "Epoch: 290 Loss D.: 0.7115304470062256\n",
      "Epoch: 290 Loss G.: 1.1449788808822632\n"
     ]
    }
   ],
   "source": [
    "# implement training loop to feed samples and update weights to minimize the loss function\n",
    "for epoch in range(num_epochs):\n",
    "    for n, (real_samples, _) in enumerate(train_loader):     # get real samples of current batch from data loader; each line of tensor represents one sampel from batch\n",
    "        \n",
    "        # data to train discriminator\n",
    "        real_samples_labels = torch.ones((batch_size, 1))              # 1 for real samples\n",
    "        latent_space_samples = torch.randn((batch_size, 2))\n",
    "        generated_samples = generator(latent_space_samples)            # feed random data to generator to get generated samples\n",
    "        generated_samples_labels = torch.zeros((batch_size, 1))        # 0 for generated samples\n",
    "        all_samples = torch.cat((real_samples, generated_samples))     # combine real and generated samples to feed to discriminator\n",
    "        all_samples_labels = torch.cat((real_samples_labels, generated_samples_labels))\n",
    "        \n",
    "        # train the discriminator\n",
    "        discriminator.zero_grad()                             # clear gradients at each training step to avoid accumulation\n",
    "        output_discriminator = discriminator(all_samples)     # calculate output of discriminator\n",
    "        loss_discriminator = loss_function(output_discriminator, all_samples_labels)     # calculate loss function\n",
    "        loss_discriminator.backward()              # calculate gradients\n",
    "        optimizer_discriminator.step()             # update discriminator weights\n",
    "        \n",
    "        # data to train generator\n",
    "        latent_space_samples = torch.randn((batch_size, 2))   # two-dimensional input to generator\n",
    "        \n",
    "        # train the generator\n",
    "        generator.zero_grad()\n",
    "        generated_samples = generator(latent_space_samples)   # generate samples from latente space\n",
    "        output_discriminator_generated = discriminator(generated_samples)     # get output of generated samples from discriminator\n",
    "        loss_generator = loss_function(output_discriminator_generated, real_samples_labels)   # calculate loss function; all labels equal to 1\n",
    "        loss_generator.backward()                  # calculate gradients\n",
    "        optimizer_generator.step()                 # update generator weights; discriminator weights frozen\n",
    "        \n",
    "        # display loss functions for every ten epochs\n",
    "        if epoch % 10 == 0 and n == batch_size - 1:\n",
    "            print(f\"Epoch: {epoch} Loss D.: {loss_discriminator}\")\n",
    "            print(f\"Epoch: {epoch} Loss G.: {loss_generator}\")"
   ]
  },
  {
   "cell_type": "code",
   "execution_count": 16,
   "metadata": {},
   "outputs": [
    {
     "data": {
      "text/plain": [
       "[<matplotlib.lines.Line2D at 0x2505bddc2b0>]"
      ]
     },
     "execution_count": 16,
     "metadata": {},
     "output_type": "execute_result"
    },
    {
     "data": {
      "image/png": "[encoded data removed]",
      "text/plain": [
       "<Figure size 432x288 with 1 Axes>"
      ]
     },
     "metadata": {
      "needs_background": "light"
     },
     "output_type": "display_data"
    }
   ],
   "source": [
    "# observe if generated samples of trained generator look like sine curve\n",
    "latent_space_samples = torch.randn(100, 2)\n",
    "generated_samples = generator(latent_space_samples)\n",
    "\n",
    "generated_samples = generated_samples.detach()         # return tensor from PyTorch computational graph\n",
    "plt.plot(generated_samples[:, 0], generated_samples[:, 1], \".\")"
   ]
  },
  {
   "cell_type": "code",
   "execution_count": null,
   "metadata": {},
   "outputs": [],
   "source": []
  }
 ],
 "metadata": {
  "kernelspec": {
   "display_name": "GAN",
   "language": "python",
   "name": "gan"
  },
  "language_info": {
   "codemirror_mode": {
    "name": "ipython",
    "version": 3
   },
   "file_extension": ".py",
   "mimetype": "text/x-python",
   "name": "python",
   "nbconvert_exporter": "python",
   "pygments_lexer": "ipython3",
   "version": "3.8.5"
  }
 },
 "nbformat": 4,
 "nbformat_minor": 4
}
